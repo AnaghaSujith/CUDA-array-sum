{
  "nbformat": 4,
  "nbformat_minor": 0,
  "metadata": {
    "colab": {
      "provenance": [],
      "gpuType": "T4"
    },
    "kernelspec": {
      "name": "python3",
      "display_name": "Python 3"
    },
    "language_info": {
      "name": "python"
    },
    "accelerator": "GPU"
  },
  "cells": [
    {
      "cell_type": "code",
      "source": [
        "%%writefile array_sum2.cu\n",
        "#include <stdio.h>\n",
        "#include <stdlib.h>\n",
        "#include <cuda_runtime.h>\n",
        "#include <ctime>\n",
        "\n",
        "#define N 40000000  // Size of the array\n",
        "#define THREADS_PER_BLOCK 256\n",
        "\n",
        "// CUDA Kernel for summing an array\n",
        "__global__ void arraySumKernel(int *arr, int *result, int n) {\n",
        "    __shared__ int shared_data[THREADS_PER_BLOCK];\n",
        "    int index = threadIdx.x + blockIdx.x * blockDim.x;\n",
        "\n",
        "    // Initialize shared memory\n",
        "    if (index < n) {\n",
        "        shared_data[threadIdx.x] = arr[index];\n",
        "    } else {\n",
        "        shared_data[threadIdx.x] = 0;\n",
        "    }\n",
        "    __syncthreads();\n",
        "\n",
        "    // Parallel reduction\n",
        "    for (int stride = THREADS_PER_BLOCK / 2; stride > 0; stride /= 2) {\n",
        "        if (threadIdx.x < stride && index + stride < n) {\n",
        "            shared_data[threadIdx.x] += shared_data[threadIdx.x + stride];\n",
        "        }\n",
        "        __syncthreads();\n",
        "    }\n",
        "\n",
        "    // Store result\n",
        "    if (threadIdx.x == 0) {\n",
        "        atomicAdd(result, shared_data[0]);\n",
        "    }\n",
        "}\n",
        "\n",
        "// CPU sum\n",
        "int arraySum(int *arr, int n) {\n",
        "    int sum = 0;\n",
        "    for (int i = 0; i < n; i++) {\n",
        "        sum += arr[i];\n",
        "    }\n",
        "    return sum;\n",
        "}\n",
        "\n",
        "int main() {\n",
        "    printf(\"Number of elements: %d\\n\", N);\n",
        "\n",
        "    int *arr, *d_arr, *d_result;\n",
        "    arr = (int*)malloc(N * sizeof(int));\n",
        "\n",
        "    for (int i = 0; i < N; i++) {\n",
        "        arr[i] = 1;\n",
        "    }\n",
        "\n",
        "    cudaMalloc(&d_arr, N * sizeof(int));\n",
        "    cudaMalloc(&d_result, sizeof(int));\n",
        "\n",
        "    cudaMemcpy(d_arr, arr, N * sizeof(int), cudaMemcpyHostToDevice);\n",
        "    cudaMemset(d_result, 0, sizeof(int));\n",
        "\n",
        "    // GPU Timing\n",
        "    clock_t gpu_start = clock();\n",
        "    int numBlocks = (N + THREADS_PER_BLOCK - 1) / THREADS_PER_BLOCK;\n",
        "    arraySumKernel<<<numBlocks, THREADS_PER_BLOCK>>>(d_arr, d_result, N);\n",
        "    cudaDeviceSynchronize();  // Ensure completion before timing ends\n",
        "    clock_t gpu_end = clock();\n",
        "    double gpu_time = double(gpu_end - gpu_start) / CLOCKS_PER_SEC;\n",
        "\n",
        "    int gpu_sum = 0;\n",
        "    cudaMemcpy(&gpu_sum, d_result, sizeof(int), cudaMemcpyDeviceToHost);\n",
        "\n",
        "    printf(\"Sum of array elements (GPU): %d\\n\", gpu_sum);\n",
        "    printf(\"GPU time: %f seconds\\n\", gpu_time);\n",
        "\n",
        "    // CPU Timing\n",
        "    clock_t cpu_start = clock();\n",
        "    int cpu_sum = arraySum(arr, N);\n",
        "    clock_t cpu_end = clock();\n",
        "    double cpu_time = double(cpu_end - cpu_start) / CLOCKS_PER_SEC;\n",
        "\n",
        "    printf(\"Sum of array elements (CPU): %d\\n\", cpu_sum);\n",
        "    printf(\"CPU time: %f seconds\\n\", cpu_time);\n",
        "\n",
        "    // Speedup\n",
        "    double speedup = cpu_time / gpu_time;\n",
        "    printf(\"Speedup (CPU time / GPU time): %.2fx\\n\", speedup);\n",
        "\n",
        "    free(arr);\n",
        "    cudaFree(d_arr);\n",
        "    cudaFree(d_result);\n",
        "\n",
        "    return 0;\n",
        "}\n"
      ],
      "metadata": {
        "colab": {
          "base_uri": "https://localhost:8080/"
        },
        "id": "sYiqa982uaIe",
        "outputId": "3f19d7e9-76ec-4e59-ff9d-613b5a71e0c6"
      },
      "execution_count": 18,
      "outputs": [
        {
          "output_type": "stream",
          "name": "stdout",
          "text": [
            "Overwriting array_sum2.cu\n"
          ]
        }
      ]
    },
    {
      "cell_type": "code",
      "source": [
        "!nvcc -arch=sm_75 array_sum2.cu -o array_sum2\n"
      ],
      "metadata": {
        "id": "ZmqGOnYJfmbe"
      },
      "execution_count": 19,
      "outputs": []
    },
    {
      "cell_type": "code",
      "source": [
        "!./array_sum2"
      ],
      "metadata": {
        "colab": {
          "base_uri": "https://localhost:8080/"
        },
        "id": "ClRj-YgffrHr",
        "outputId": "89e6b484-3e8e-4003-9af9-3f0746fa95b4"
      },
      "execution_count": 20,
      "outputs": [
        {
          "output_type": "stream",
          "name": "stdout",
          "text": [
            "Number of elements: 40000000\n",
            "Sum of array elements (GPU): 40000000\n",
            "GPU time: 0.003739 seconds\n",
            "Sum of array elements (CPU): 40000000\n",
            "CPU time: 0.109267 seconds\n",
            "Speedup (CPU time / GPU time): 29.22x\n"
          ]
        }
      ]
    },
    {
      "cell_type": "code",
      "source": [
        "import matplotlib.pyplot as plt\n",
        "\n",
        "# Simulated data\n",
        "labels = ['CPU', 'GPU']\n",
        "times = [0.109267, 0.003739]  # example values in seconds\n",
        "\n",
        "# Bar Plot\n",
        "plt.figure(figsize=(8, 5))\n",
        "plt.bar(labels, times, color=['skyblue', 'orange'])\n",
        "plt.ylabel('Time (seconds)')\n",
        "plt.title('CPU vs GPU Execution Time')\n",
        "plt.grid(True, axis='y')\n",
        "plt.tight_layout()\n",
        "plt.savefig('execution_time_comparison.png')\n",
        "plt.show()\n",
        "\n",
        "# Speedup\n",
        "speedup = times[0] / times[1]\n",
        "print(f\"Speedup: {speedup:.2f}x\")\n"
      ],
      "metadata": {
        "colab": {
          "base_uri": "https://localhost:8080/",
          "height": 524
        },
        "id": "E00yqfNwr0L0",
        "outputId": "2e7f2fc8-8869-4218-dc5c-f955484e59b2"
      },
      "execution_count": 22,
      "outputs": [
        {
          "output_type": "display_data",
          "data": {
            "text/plain": [
              "<Figure size 800x500 with 1 Axes>"
            ],
            "image/png": "[encoded data removed]"
          },
          "metadata": {}
        },
        {
          "output_type": "stream",
          "name": "stdout",
          "text": [
            "Speedup: 29.22x\n"
          ]
        }
      ]
    }
  ]
}